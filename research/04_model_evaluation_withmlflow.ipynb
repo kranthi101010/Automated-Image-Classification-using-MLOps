{
 "cells": [
  {
   "cell_type": "code",
   "execution_count": 1,
   "metadata": {},
   "outputs": [],
   "source": [
    "import os"
   ]
  },
  {
   "cell_type": "code",
   "execution_count": 2,
   "metadata": {},
   "outputs": [
    {
     "data": {
      "text/plain": [
       "'/Users/manojkumar/xrayMlOps/research'"
      ]
     },
     "execution_count": 2,
     "metadata": {},
     "output_type": "execute_result"
    }
   ],
   "source": [
    "%pwd"
   ]
  },
  {
   "cell_type": "code",
   "execution_count": 3,
   "metadata": {},
   "outputs": [],
   "source": [
    "os.chdir(\"../\")"
   ]
  },
  {
   "cell_type": "code",
   "execution_count": 4,
   "metadata": {},
   "outputs": [
    {
     "data": {
      "text/plain": [
       "'/Users/manojkumar/xrayMlOps'"
      ]
     },
     "execution_count": 4,
     "metadata": {},
     "output_type": "execute_result"
    }
   ],
   "source": [
    "%pwd"
   ]
  },
  {
   "cell_type": "code",
   "execution_count": 5,
   "metadata": {},
   "outputs": [],
   "source": [
    "os.environ[\"MLFLOW_TRACKING_URI\"]=\"https://dagshub.com/manojdavuluri/xrayMlOps.mlflow\"\n",
    "os.environ[\"MLFLOW_TRACKING_USERNAME\"]=\"manojdavuluri\"\n",
    "os.environ[\"MLFLOW_TRACKING_PASSWORD\"]=\"10b1ebe5ebd2fc409a3832c6347cadba0c0d8484\""
   ]
  },
  {
   "cell_type": "code",
   "execution_count": 6,
   "metadata": {},
   "outputs": [],
   "source": [
    "import tensorflow as tf"
   ]
  },
  {
   "cell_type": "code",
   "execution_count": 7,
   "metadata": {},
   "outputs": [],
   "source": [
    "model = tf.keras.models.load_model(\"artifacts/training/model.h5\")"
   ]
  },
  {
   "cell_type": "code",
   "execution_count": 8,
   "metadata": {},
   "outputs": [],
   "source": [
    "from dataclasses import dataclass\n",
    "from pathlib import Path\n",
    "\n",
    "@dataclass(frozen=True)\n",
    "class EvaluationConfig:\n",
    "    path_of_model: Path\n",
    "    training_data: Path\n",
    "    all_params: dict\n",
    "    mlflow_uri: str\n",
    "    params_image_size: list\n",
    "    params_batch_size: int"
   ]
  },
  {
   "cell_type": "code",
   "execution_count": 9,
   "metadata": {},
   "outputs": [],
   "source": [
    "from xRayClassifier.constants import *\n",
    "from xRayClassifier.utils.common import read_yaml, create_directories, save_json  "
   ]
  },
  {
   "cell_type": "code",
   "execution_count": 10,
   "metadata": {},
   "outputs": [],
   "source": [
    "class ConfigurationManager:\n",
    "    def __init__(\n",
    "        self, \n",
    "        config_filepath = CONFIG_FILE_PATH,\n",
    "        params_filepath = PARAMS_FILE_PATH):\n",
    "        self.config = read_yaml(config_filepath)\n",
    "        self.params = read_yaml(params_filepath)\n",
    "        create_directories([self.config.artifacts_root])\n",
    "\n",
    "    \n",
    "    def get_evaluation_config(self) -> EvaluationConfig:\n",
    "        eval_config = EvaluationConfig(\n",
    "            path_of_model=\"artifacts/training/model.h5\",\n",
    "            training_data=\"artifacts/data_ingestion/Dataset\",\n",
    "            mlflow_uri=\"https://dagshub.com/manojdavuluri/xrayMlOps.mlflow\",\n",
    "            all_params=self.params,\n",
    "            params_image_size=self.params.IMAGE_SIZE,\n",
    "            params_batch_size=self.params.BATCH_SIZE\n",
    "        )\n",
    "        return eval_config\n",
    "    \n",
    "    "
   ]
  },
  {
   "cell_type": "code",
   "execution_count": 11,
   "metadata": {},
   "outputs": [],
   "source": [
    "import tensorflow as tf\n",
    "from pathlib import Path\n",
    "import mlflow\n",
    "import mlflow.keras\n",
    "from urllib.parse import urlparse"
   ]
  },
  {
   "cell_type": "code",
   "execution_count": 12,
   "metadata": {},
   "outputs": [],
   "source": [
    "class Evaluation:\n",
    "    def __init__(self, config: EvaluationConfig):\n",
    "        self.config = config\n",
    "\n",
    "    \n",
    "    def _valid_generator(self):\n",
    "\n",
    "        datagenerator_kwargs = dict(\n",
    "            rescale = 1./255,\n",
    "            validation_split=0.30\n",
    "        )\n",
    "\n",
    "        dataflow_kwargs = dict(\n",
    "            target_size=self.config.params_image_size[:-1],\n",
    "            batch_size=self.config.params_batch_size,\n",
    "            interpolation=\"bilinear\"\n",
    "        )\n",
    "\n",
    "        valid_datagenerator = tf.keras.preprocessing.image.ImageDataGenerator(\n",
    "            **datagenerator_kwargs\n",
    "        )\n",
    "\n",
    "        self.valid_generator = valid_datagenerator.flow_from_directory(\n",
    "            directory=self.config.training_data, \n",
    "            subset=\"validation\",\n",
    "            shuffle=False,\n",
    "            **dataflow_kwargs\n",
    "        )\n",
    "    @staticmethod\n",
    "    def load_model(path: Path) -> tf.keras.Model:\n",
    "        return tf.keras.models.load_model(path)\n",
    "    \n",
    "    def evaluation(self):\n",
    "        self.model = self.load_model(self.config.path_of_model)\n",
    "        self._valid_generator()\n",
    "        self.score = model.evaluate(self.valid_generator)\n",
    "        self.save_score()\n",
    "    \n",
    "    def save_score(self):\n",
    "        scores = {\"loss\": self.score[0], \"accuracy\": self.score[1]}\n",
    "        save_json(path=Path(\"scores.json\"), data=scores)\n",
    "    \n",
    "    def log_into_mlflow(self):\n",
    "        mlflow.set_registry_uri(self.config.mlflow_uri)\n",
    "        tracking_url_type_store = urlparse(mlflow.get_tracking_uri()).scheme\n",
    "        \n",
    "        with mlflow.start_run():\n",
    "            mlflow.log_params(self.config.all_params)\n",
    "            mlflow.log_metrics(\n",
    "                {\"loss\": self.score[0], \"accuracy\": self.score[1]}\n",
    "            )\n",
    "            # if tracking_url_type_store != \"file\":\n",
    "\n",
    "            #     # Register the model\n",
    "            #     # There are other ways to use the Model Registry, which depends on the use case,\n",
    "            #     # please refer to the doc for more information:\n",
    "            #     # https://mlflow.org/docs/latest/model-registry.html#api-workflow\n",
    "            #     mlflow.keras.log_model(self.model, \"model\", registered_model_name=\"VGG16Model\")\n",
    "            # else:\n",
    "            #     mlflow.keras.log_model(self.model, \"model\")"
   ]
  },
  {
   "cell_type": "code",
   "execution_count": 13,
   "metadata": {},
   "outputs": [
    {
     "name": "stdout",
     "output_type": "stream",
     "text": [
      "[2023-12-04 21:41:09,983: INFO: common: yaml file: config/config.yaml loaded successfully]\n",
      "[2023-12-04 21:41:09,987: INFO: common: yaml file: params.yaml loaded successfully]\n",
      "[2023-12-04 21:41:09,988: INFO: common: created directory at: artifacts]\n",
      "Found 88 images belonging to 2 classes.\n",
      "1/1 [==============================] - 12s 12s/step - loss: 0.8579 - accuracy: 0.5000\n",
      "[2023-12-04 21:41:23,792: INFO: common: json file saved at: scores.json]\n"
     ]
    },
    {
     "ename": "RestException",
     "evalue": "INVALID_PARAMETER_VALUE: Response: {'error_code': 'INVALID_PARAMETER_VALUE'}",
     "output_type": "error",
     "traceback": [
      "\u001b[0;31m---------------------------------------------------------------------------\u001b[0m",
      "\u001b[0;31mRestException\u001b[0m                             Traceback (most recent call last)",
      "\u001b[1;32m/Users/manojkumar/xrayMlOps/research/04_model_evaluation_withmlflow.ipynb Cell 13\u001b[0m line \u001b[0;36m8\n\u001b[1;32m      <a href='vscode-notebook-cell:/Users/manojkumar/xrayMlOps/research/04_model_evaluation_withmlflow.ipynb#X15sZmlsZQ%3D%3D?line=5'>6</a>\u001b[0m     evaluation\u001b[39m.\u001b[39mlog_into_mlflow()\n\u001b[1;32m      <a href='vscode-notebook-cell:/Users/manojkumar/xrayMlOps/research/04_model_evaluation_withmlflow.ipynb#X15sZmlsZQ%3D%3D?line=6'>7</a>\u001b[0m \u001b[39mexcept\u001b[39;00m \u001b[39mException\u001b[39;00m \u001b[39mas\u001b[39;00m e:\n\u001b[0;32m----> <a href='vscode-notebook-cell:/Users/manojkumar/xrayMlOps/research/04_model_evaluation_withmlflow.ipynb#X15sZmlsZQ%3D%3D?line=7'>8</a>\u001b[0m    \u001b[39mraise\u001b[39;00m e\n",
      "\u001b[1;32m/Users/manojkumar/xrayMlOps/research/04_model_evaluation_withmlflow.ipynb Cell 13\u001b[0m line \u001b[0;36m6\n\u001b[1;32m      <a href='vscode-notebook-cell:/Users/manojkumar/xrayMlOps/research/04_model_evaluation_withmlflow.ipynb#X15sZmlsZQ%3D%3D?line=3'>4</a>\u001b[0m     evaluation \u001b[39m=\u001b[39m Evaluation(eval_config)\n\u001b[1;32m      <a href='vscode-notebook-cell:/Users/manojkumar/xrayMlOps/research/04_model_evaluation_withmlflow.ipynb#X15sZmlsZQ%3D%3D?line=4'>5</a>\u001b[0m     evaluation\u001b[39m.\u001b[39mevaluation() \n\u001b[0;32m----> <a href='vscode-notebook-cell:/Users/manojkumar/xrayMlOps/research/04_model_evaluation_withmlflow.ipynb#X15sZmlsZQ%3D%3D?line=5'>6</a>\u001b[0m     evaluation\u001b[39m.\u001b[39;49mlog_into_mlflow()\n\u001b[1;32m      <a href='vscode-notebook-cell:/Users/manojkumar/xrayMlOps/research/04_model_evaluation_withmlflow.ipynb#X15sZmlsZQ%3D%3D?line=6'>7</a>\u001b[0m \u001b[39mexcept\u001b[39;00m \u001b[39mException\u001b[39;00m \u001b[39mas\u001b[39;00m e:\n\u001b[1;32m      <a href='vscode-notebook-cell:/Users/manojkumar/xrayMlOps/research/04_model_evaluation_withmlflow.ipynb#X15sZmlsZQ%3D%3D?line=7'>8</a>\u001b[0m    \u001b[39mraise\u001b[39;00m e\n",
      "\u001b[1;32m/Users/manojkumar/xrayMlOps/research/04_model_evaluation_withmlflow.ipynb Cell 13\u001b[0m line \u001b[0;36m4\n\u001b[1;32m     <a href='vscode-notebook-cell:/Users/manojkumar/xrayMlOps/research/04_model_evaluation_withmlflow.ipynb#X15sZmlsZQ%3D%3D?line=43'>44</a>\u001b[0m mlflow\u001b[39m.\u001b[39mset_registry_uri(\u001b[39mself\u001b[39m\u001b[39m.\u001b[39mconfig\u001b[39m.\u001b[39mmlflow_uri)\n\u001b[1;32m     <a href='vscode-notebook-cell:/Users/manojkumar/xrayMlOps/research/04_model_evaluation_withmlflow.ipynb#X15sZmlsZQ%3D%3D?line=44'>45</a>\u001b[0m tracking_url_type_store \u001b[39m=\u001b[39m urlparse(mlflow\u001b[39m.\u001b[39mget_tracking_uri())\u001b[39m.\u001b[39mscheme\n\u001b[0;32m---> <a href='vscode-notebook-cell:/Users/manojkumar/xrayMlOps/research/04_model_evaluation_withmlflow.ipynb#X15sZmlsZQ%3D%3D?line=46'>47</a>\u001b[0m \u001b[39mwith\u001b[39;00m mlflow\u001b[39m.\u001b[39;49mstart_run():\n\u001b[1;32m     <a href='vscode-notebook-cell:/Users/manojkumar/xrayMlOps/research/04_model_evaluation_withmlflow.ipynb#X15sZmlsZQ%3D%3D?line=47'>48</a>\u001b[0m     mlflow\u001b[39m.\u001b[39mlog_params(\u001b[39mself\u001b[39m\u001b[39m.\u001b[39mconfig\u001b[39m.\u001b[39mall_params)\n\u001b[1;32m     <a href='vscode-notebook-cell:/Users/manojkumar/xrayMlOps/research/04_model_evaluation_withmlflow.ipynb#X15sZmlsZQ%3D%3D?line=48'>49</a>\u001b[0m     mlflow\u001b[39m.\u001b[39mlog_metrics(\n\u001b[1;32m     <a href='vscode-notebook-cell:/Users/manojkumar/xrayMlOps/research/04_model_evaluation_withmlflow.ipynb#X15sZmlsZQ%3D%3D?line=49'>50</a>\u001b[0m         {\u001b[39m\"\u001b[39m\u001b[39mloss\u001b[39m\u001b[39m\"\u001b[39m: \u001b[39mself\u001b[39m\u001b[39m.\u001b[39mscore[\u001b[39m0\u001b[39m], \u001b[39m\"\u001b[39m\u001b[39maccuracy\u001b[39m\u001b[39m\"\u001b[39m: \u001b[39mself\u001b[39m\u001b[39m.\u001b[39mscore[\u001b[39m1\u001b[39m]}\n\u001b[1;32m     <a href='vscode-notebook-cell:/Users/manojkumar/xrayMlOps/research/04_model_evaluation_withmlflow.ipynb#X15sZmlsZQ%3D%3D?line=50'>51</a>\u001b[0m     )\n",
      "File \u001b[0;32m~/anaconda3/envs/xray/lib/python3.8/site-packages/mlflow/tracking/fluent.py:374\u001b[0m, in \u001b[0;36mstart_run\u001b[0;34m(run_id, experiment_id, run_name, nested, tags, description, log_system_metrics)\u001b[0m\n\u001b[1;32m    370\u001b[0m     user_specified_tags[MLFLOW_RUN_NAME] \u001b[39m=\u001b[39m run_name\n\u001b[1;32m    372\u001b[0m resolved_tags \u001b[39m=\u001b[39m context_registry\u001b[39m.\u001b[39mresolve_tags(user_specified_tags)\n\u001b[0;32m--> 374\u001b[0m active_run_obj \u001b[39m=\u001b[39m client\u001b[39m.\u001b[39;49mcreate_run(\n\u001b[1;32m    375\u001b[0m     experiment_id\u001b[39m=\u001b[39;49mexp_id_for_run,\n\u001b[1;32m    376\u001b[0m     tags\u001b[39m=\u001b[39;49mresolved_tags,\n\u001b[1;32m    377\u001b[0m     run_name\u001b[39m=\u001b[39;49mrun_name,\n\u001b[1;32m    378\u001b[0m )\n\u001b[1;32m    379\u001b[0m \u001b[39mif\u001b[39;00m log_system_metrics \u001b[39mis\u001b[39;00m \u001b[39mNone\u001b[39;00m:\n\u001b[1;32m    380\u001b[0m     \u001b[39m# if `log_system_metrics` is not specified, we will check environment variable.\u001b[39;00m\n\u001b[1;32m    381\u001b[0m     log_system_metrics \u001b[39m=\u001b[39m MLFLOW_ENABLE_SYSTEM_METRICS_LOGGING\u001b[39m.\u001b[39mget()\n",
      "File \u001b[0;32m~/anaconda3/envs/xray/lib/python3.8/site-packages/mlflow/tracking/client.py:332\u001b[0m, in \u001b[0;36mMlflowClient.create_run\u001b[0;34m(self, experiment_id, start_time, tags, run_name)\u001b[0m\n\u001b[1;32m    281\u001b[0m \u001b[39mdef\u001b[39;00m \u001b[39mcreate_run\u001b[39m(\n\u001b[1;32m    282\u001b[0m     \u001b[39mself\u001b[39m,\n\u001b[1;32m    283\u001b[0m     experiment_id: \u001b[39mstr\u001b[39m,\n\u001b[0;32m   (...)\u001b[0m\n\u001b[1;32m    286\u001b[0m     run_name: Optional[\u001b[39mstr\u001b[39m] \u001b[39m=\u001b[39m \u001b[39mNone\u001b[39;00m,\n\u001b[1;32m    287\u001b[0m ) \u001b[39m-\u001b[39m\u001b[39m>\u001b[39m Run:\n\u001b[1;32m    288\u001b[0m \u001b[39m    \u001b[39m\u001b[39m\"\"\"\u001b[39;00m\n\u001b[1;32m    289\u001b[0m \u001b[39m    Create a :py:class:`mlflow.entities.Run` object that can be associated with\u001b[39;00m\n\u001b[1;32m    290\u001b[0m \u001b[39m    metrics, parameters, artifacts, etc.\u001b[39;00m\n\u001b[0;32m   (...)\u001b[0m\n\u001b[1;32m    330\u001b[0m \u001b[39m        status: RUNNING\u001b[39;00m\n\u001b[1;32m    331\u001b[0m \u001b[39m    \"\"\"\u001b[39;00m\n\u001b[0;32m--> 332\u001b[0m     \u001b[39mreturn\u001b[39;00m \u001b[39mself\u001b[39;49m\u001b[39m.\u001b[39;49m_tracking_client\u001b[39m.\u001b[39;49mcreate_run(experiment_id, start_time, tags, run_name)\n",
      "File \u001b[0;32m~/anaconda3/envs/xray/lib/python3.8/site-packages/mlflow/tracking/_tracking_service/client.py:132\u001b[0m, in \u001b[0;36mTrackingServiceClient.create_run\u001b[0;34m(self, experiment_id, start_time, tags, run_name)\u001b[0m\n\u001b[1;32m    127\u001b[0m \u001b[39m# Extract user from tags\u001b[39;00m\n\u001b[1;32m    128\u001b[0m \u001b[39m# This logic is temporary; the user_id attribute of runs is deprecated and will be removed\u001b[39;00m\n\u001b[1;32m    129\u001b[0m \u001b[39m# in a later release.\u001b[39;00m\n\u001b[1;32m    130\u001b[0m user_id \u001b[39m=\u001b[39m tags\u001b[39m.\u001b[39mget(MLFLOW_USER, \u001b[39m\"\u001b[39m\u001b[39munknown\u001b[39m\u001b[39m\"\u001b[39m)\n\u001b[0;32m--> 132\u001b[0m \u001b[39mreturn\u001b[39;00m \u001b[39mself\u001b[39;49m\u001b[39m.\u001b[39;49mstore\u001b[39m.\u001b[39;49mcreate_run(\n\u001b[1;32m    133\u001b[0m     experiment_id\u001b[39m=\u001b[39;49mexperiment_id,\n\u001b[1;32m    134\u001b[0m     user_id\u001b[39m=\u001b[39;49muser_id,\n\u001b[1;32m    135\u001b[0m     start_time\u001b[39m=\u001b[39;49mstart_time \u001b[39mor\u001b[39;49;00m get_current_time_millis(),\n\u001b[1;32m    136\u001b[0m     tags\u001b[39m=\u001b[39;49m[RunTag(key, value) \u001b[39mfor\u001b[39;49;00m (key, value) \u001b[39min\u001b[39;49;00m tags\u001b[39m.\u001b[39;49mitems()],\n\u001b[1;32m    137\u001b[0m     run_name\u001b[39m=\u001b[39;49mrun_name,\n\u001b[1;32m    138\u001b[0m )\n",
      "File \u001b[0;32m~/anaconda3/envs/xray/lib/python3.8/site-packages/mlflow/store/tracking/rest_store.py:178\u001b[0m, in \u001b[0;36mRestStore.create_run\u001b[0;34m(self, experiment_id, user_id, start_time, tags, run_name)\u001b[0m\n\u001b[1;32m    168\u001b[0m tag_protos \u001b[39m=\u001b[39m [tag\u001b[39m.\u001b[39mto_proto() \u001b[39mfor\u001b[39;00m tag \u001b[39min\u001b[39;00m tags]\n\u001b[1;32m    169\u001b[0m req_body \u001b[39m=\u001b[39m message_to_json(\n\u001b[1;32m    170\u001b[0m     CreateRun(\n\u001b[1;32m    171\u001b[0m         experiment_id\u001b[39m=\u001b[39m\u001b[39mstr\u001b[39m(experiment_id),\n\u001b[0;32m   (...)\u001b[0m\n\u001b[1;32m    176\u001b[0m     )\n\u001b[1;32m    177\u001b[0m )\n\u001b[0;32m--> 178\u001b[0m response_proto \u001b[39m=\u001b[39m \u001b[39mself\u001b[39;49m\u001b[39m.\u001b[39;49m_call_endpoint(CreateRun, req_body)\n\u001b[1;32m    179\u001b[0m \u001b[39mreturn\u001b[39;00m Run\u001b[39m.\u001b[39mfrom_proto(response_proto\u001b[39m.\u001b[39mrun)\n",
      "File \u001b[0;32m~/anaconda3/envs/xray/lib/python3.8/site-packages/mlflow/store/tracking/rest_store.py:59\u001b[0m, in \u001b[0;36mRestStore._call_endpoint\u001b[0;34m(self, api, json_body)\u001b[0m\n\u001b[1;32m     57\u001b[0m endpoint, method \u001b[39m=\u001b[39m _METHOD_TO_INFO[api]\n\u001b[1;32m     58\u001b[0m response_proto \u001b[39m=\u001b[39m api\u001b[39m.\u001b[39mResponse()\n\u001b[0;32m---> 59\u001b[0m \u001b[39mreturn\u001b[39;00m call_endpoint(\u001b[39mself\u001b[39;49m\u001b[39m.\u001b[39;49mget_host_creds(), endpoint, method, json_body, response_proto)\n",
      "File \u001b[0;32m~/anaconda3/envs/xray/lib/python3.8/site-packages/mlflow/utils/rest_utils.py:210\u001b[0m, in \u001b[0;36mcall_endpoint\u001b[0;34m(host_creds, endpoint, method, json_body, response_proto, extra_headers)\u001b[0m\n\u001b[1;32m    208\u001b[0m     call_kwargs[\u001b[39m\"\u001b[39m\u001b[39mjson\u001b[39m\u001b[39m\"\u001b[39m] \u001b[39m=\u001b[39m json_body\n\u001b[1;32m    209\u001b[0m     response \u001b[39m=\u001b[39m http_request(\u001b[39m*\u001b[39m\u001b[39m*\u001b[39mcall_kwargs)\n\u001b[0;32m--> 210\u001b[0m response \u001b[39m=\u001b[39m verify_rest_response(response, endpoint)\n\u001b[1;32m    211\u001b[0m js_dict \u001b[39m=\u001b[39m json\u001b[39m.\u001b[39mloads(response\u001b[39m.\u001b[39mtext)\n\u001b[1;32m    212\u001b[0m parse_dict(js_dict\u001b[39m=\u001b[39mjs_dict, message\u001b[39m=\u001b[39mresponse_proto)\n",
      "File \u001b[0;32m~/anaconda3/envs/xray/lib/python3.8/site-packages/mlflow/utils/rest_utils.py:142\u001b[0m, in \u001b[0;36mverify_rest_response\u001b[0;34m(response, endpoint)\u001b[0m\n\u001b[1;32m    140\u001b[0m \u001b[39mif\u001b[39;00m response\u001b[39m.\u001b[39mstatus_code \u001b[39m!=\u001b[39m \u001b[39m200\u001b[39m:\n\u001b[1;32m    141\u001b[0m     \u001b[39mif\u001b[39;00m _can_parse_as_json_object(response\u001b[39m.\u001b[39mtext):\n\u001b[0;32m--> 142\u001b[0m         \u001b[39mraise\u001b[39;00m RestException(json\u001b[39m.\u001b[39mloads(response\u001b[39m.\u001b[39mtext))\n\u001b[1;32m    143\u001b[0m     \u001b[39melse\u001b[39;00m:\n\u001b[1;32m    144\u001b[0m         base_msg \u001b[39m=\u001b[39m (\n\u001b[1;32m    145\u001b[0m             \u001b[39mf\u001b[39m\u001b[39m\"\u001b[39m\u001b[39mAPI request to endpoint \u001b[39m\u001b[39m{\u001b[39;00mendpoint\u001b[39m}\u001b[39;00m\u001b[39m \u001b[39m\u001b[39m\"\u001b[39m\n\u001b[1;32m    146\u001b[0m             \u001b[39mf\u001b[39m\u001b[39m\"\u001b[39m\u001b[39mfailed with error code \u001b[39m\u001b[39m{\u001b[39;00mresponse\u001b[39m.\u001b[39mstatus_code\u001b[39m}\u001b[39;00m\u001b[39m != 200\u001b[39m\u001b[39m\"\u001b[39m\n\u001b[1;32m    147\u001b[0m         )\n",
      "\u001b[0;31mRestException\u001b[0m: INVALID_PARAMETER_VALUE: Response: {'error_code': 'INVALID_PARAMETER_VALUE'}"
     ]
    }
   ],
   "source": [
    "try:\n",
    "    config = ConfigurationManager()\n",
    "    eval_config = config.get_evaluation_config()\n",
    "    evaluation = Evaluation(eval_config)\n",
    "    evaluation.evaluation() \n",
    "    evaluation.log_into_mlflow()\n",
    "except Exception as e:\n",
    "   raise e"
   ]
  },
  {
   "cell_type": "code",
   "execution_count": 14,
   "metadata": {},
   "outputs": [
    {
     "data": {
      "text/plain": [
       "'2.8.1'"
      ]
     },
     "execution_count": 14,
     "metadata": {},
     "output_type": "execute_result"
    }
   ],
   "source": [
    "mlflow.__version__"
   ]
  }
 ],
 "metadata": {
  "kernelspec": {
   "display_name": "xray",
   "language": "python",
   "name": "python3"
  },
  "language_info": {
   "codemirror_mode": {
    "name": "ipython",
    "version": 3
   },
   "file_extension": ".py",
   "mimetype": "text/x-python",
   "name": "python",
   "nbconvert_exporter": "python",
   "pygments_lexer": "ipython3",
   "version": "3.8.18"
  }
 },
 "nbformat": 4,
 "nbformat_minor": 2
}
